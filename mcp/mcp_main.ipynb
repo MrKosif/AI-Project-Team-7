{
 "cells": [
  {
   "cell_type": "code",
   "execution_count": 1,
   "id": "690824ee",
   "metadata": {},
   "outputs": [],
   "source": [
    "import importlib\n",
    "import mcp_server\n",
    "importlib.reload(mcp_server)\n",
    "from mcp_server import server\n",
    "import asyncio\n"
   ]
  },
  {
   "cell_type": "code",
   "execution_count": 2,
   "id": "50730e41",
   "metadata": {},
   "outputs": [
    {
     "name": "stdout",
     "output_type": "stream",
     "text": [
      "\n",
      "Available tools on the server:\n",
      "\n",
      "• get_current_user_details — Fetch member's profile, miles, identity.Tip: Call before other tools (i.e list_user_flights)\n",
      "• get_expiring_miles — Calculate member's expiring miles. Tip: Call after `get_current_user_details` to ensure member details are available.\n",
      "• list_user_flights — Fetch member's flights. Input: surname. Should be called after `get_current_user_details`. Tip: Call if the PNR has not yet been provided.\n",
      "• search_flights — Search THY (Turkish Airlines) outbound flights. Based on information from user origin(s), destination(s), date(s), and passenger details to find available flights and their prices.Important: For round trips, ALWAYS call search_inbound_flights after selecting an outbound to get accurate total pricing and return options.\n",
      "• search_inbound_flights — Required step after selecting outbound flight. Provides return flight options with accurate combined pricing including all taxes and fees.Provide details of the chosen outbound flight, original trip details, and passenger information.\n",
      "• get_flight_status_by_number — Fetch real-time flight status by number\n",
      "• get_flight_status_by_route — Fetch real-time flight status by route. Inputs: airports, date.\n",
      "• get_booking_details — Fetch THY flight booking details. Inputs: bookingReference (PNR or e-ticket number), surname. Tip: Call before other tools that require booking details. (provides flight codes, ticket numbers and baggage related info, checkin availability and more.)\n",
      "• get_booking_baggage_allowance — Fetch detailed booking baggage information. Tip: Call get_booking_details tool to retrieve the ticket number if not provided.\n",
      "• get_airline_promotions — Fetch airline promotions. Inputs: country, airports.\n",
      "• get_city_guide — Fetch a travel guide, including promotions for a specified arrival city considering departure city. Tip: What to do in the city, where to go, what to see, and more.\n",
      "• create_flight_booking_link — Constructs a booking deeplink for a specific Turkish Airlines flight option. Use for both one-way and round-trip selections from `search_flights` or `search_inbound_flights` tools. Tip: Call this tool after the user confirms their choice. Respond with the link like: `Here is your booking link: [LINK]`\n",
      "• ping — Check current authentication status. Call when authentications issue occurs.\n",
      "• logout — Logout member. Input: confirm.\n"
     ]
    }
   ],
   "source": [
    "tools = await server()"
   ]
  },
  {
   "cell_type": "code",
   "execution_count": 48,
   "id": "f980c04e",
   "metadata": {},
   "outputs": [
    {
     "data": {
      "text/plain": [
       "Tool(name='search_flights', title=None, description='Search THY (Turkish Airlines) outbound flights. Based on information from user origin(s), destination(s), date(s), and passenger details to find available flights and their prices.Important: For round trips, ALWAYS call search_inbound_flights after selecting an outbound to get accurate total pricing and return options.', inputSchema={'type': 'object', 'properties': {'originDestinations': {'type': 'array', 'items': {'type': 'object', 'properties': {'departureDateTime': {'type': 'object', 'properties': {'departureDate': {'type': 'string', 'pattern': '^\\\\d{2}-\\\\d{2}-\\\\d{4} \\\\d{2}:\\\\d{2}$'}}, 'required': ['departureDate'], 'additionalProperties': False, 'description': 'Details of the departure date and time for this segment.'}, 'originAirportCode': {'type': 'string', 'minLength': 3, 'maxLength': 3, 'description': \"The 3-letter IATA code for the origin airport. Example: 'IST' for Istanbul Airport.\"}, 'originCountryCode': {'type': 'string', 'minLength': 2, 'maxLength': 2, 'description': \"The 2-letter ISO country code for the origin airport's country. Example: 'TR' for Turkey.\"}, 'originMultiport': {'type': 'boolean', 'default': True, 'description': 'Optional. Set to true if the origin is a city with multiple airports and any airport in that city can be used. Defaults to false. Example: true'}, 'destinationAirportCode': {'type': 'string', 'minLength': 3, 'maxLength': 3, 'description': \"The 3-letter IATA code for the destination airport. Example: 'LHR' for London Heathrow.\"}, 'destinationCountryCode': {'type': 'string', 'minLength': 2, 'maxLength': 2, 'description': \"The 2-letter ISO country code for the destination airport's country. Example: 'GB' for United Kingdom.\"}, 'destinationMultiport': {'type': 'boolean', 'default': True, 'description': 'Optional. Set to true if the destination is a city with multiple airports and any airport in that city can be used. Defaults to false. Example: true'}}, 'required': ['departureDateTime', 'originAirportCode', 'originCountryCode', 'destinationAirportCode', 'destinationCountryCode'], 'additionalProperties': False}, 'minItems': 1, 'description': \"An array defining the flight segments. For a one-way trip, this will have one item. For a round trip, it will has two items (outbound and return). For multi-city, it can have more.- For a 'round' trip, this MUST be an array with exactly TWO items (outbound and return).\"}, 'passengers': {'type': 'array', 'items': {'type': 'object', 'properties': {'passengerType': {'type': 'string', 'enum': ['ADT', 'CHD', 'INF', 'YAD', 'SRC', 'STD', 'CNS', 'STU'], 'description': \"Passenger type code. Common types: 'ADT' (Adult), 'CHD' (Child), 'INF' (Infant). Ensure to use a valid type from the allowed list.\"}, 'quantity': {'type': 'integer', 'exclusiveMinimum': 0, 'description': 'Number of passengers of this specific type. Must be a positive integer. Example: 1'}}, 'required': ['passengerType', 'quantity'], 'additionalProperties': False, 'description': 'Specifies the type and quantity of passengers.'}, 'minItems': 1, 'description': 'An array specifying the number of passengers for each type (e.g., adults, children, infants).'}, 'tripType': {'type': 'string', 'enum': ['one_way', 'round', 'multi'], 'description': \"Specifies the trip type. This choice STRICTLY determines the number of flight segments required in the 'originDestinations' array.\\n      - 'one_way': REQUIRES exactly ONE flight segment.\\n      - 'round': REQUIRES exactly TWO flight segments (outbound and return).\\n      - 'multi': REQUIRES two or more flight segments. 'round' indicates you are starting a flow for `search_inbound_flights` tool\"}, 'fareFamily': {'type': 'string'}}, 'required': ['originDestinations', 'passengers', 'tripType'], 'additionalProperties': False, '$schema': 'http://json-schema.org/draft-07/schema#'}, outputSchema=None, annotations=ToolAnnotations(title='Search Flights', readOnlyHint=True, destructiveHint=None, idempotentHint=None, openWorldHint=True), meta=None)"
      ]
     },
     "execution_count": 48,
     "metadata": {},
     "output_type": "execute_result"
    }
   ],
   "source": [
    "tools[3]"
   ]
  },
  {
   "cell_type": "code",
   "execution_count": 52,
   "id": "7096b0f7",
   "metadata": {},
   "outputs": [
    {
     "data": {
      "text/plain": [
       "{'type': 'array',\n",
       " 'items': {'type': 'object',\n",
       "  'properties': {'passengerType': {'type': 'string',\n",
       "    'enum': ['ADT', 'CHD', 'INF', 'YAD', 'SRC', 'STD', 'CNS', 'STU'],\n",
       "    'description': \"Passenger type code. Common types: 'ADT' (Adult), 'CHD' (Child), 'INF' (Infant). Ensure to use a valid type from the allowed list.\"},\n",
       "   'quantity': {'type': 'integer',\n",
       "    'exclusiveMinimum': 0,\n",
       "    'description': 'Number of passengers of this specific type. Must be a positive integer. Example: 1'}},\n",
       "  'required': ['passengerType', 'quantity'],\n",
       "  'additionalProperties': False,\n",
       "  'description': 'Specifies the type and quantity of passengers.'},\n",
       " 'minItems': 1,\n",
       " 'description': 'An array specifying the number of passengers for each type (e.g., adults, children, infants).'}"
      ]
     },
     "execution_count": 52,
     "metadata": {},
     "output_type": "execute_result"
    }
   ],
   "source": [
    "tools[3].inputSchema[\"properties\"][\"passengers\"]"
   ]
  },
  {
   "cell_type": "code",
   "execution_count": 32,
   "id": "4142a9c6",
   "metadata": {},
   "outputs": [
    {
     "data": {
      "text/plain": [
       "{'type': 'object',\n",
       " 'properties': {'originDestinations': {'type': 'array',\n",
       "   'items': {'type': 'object',\n",
       "    'properties': {'departureDateTime': {'type': 'object',\n",
       "      'properties': {'departureDate': {'type': 'string',\n",
       "        'pattern': '^\\\\d{2}-\\\\d{2}-\\\\d{4} \\\\d{2}:\\\\d{2}$'}},\n",
       "      'required': ['departureDate'],\n",
       "      'additionalProperties': False,\n",
       "      'description': 'Details of the departure date and time for this segment.'},\n",
       "     'originAirportCode': {'type': 'string',\n",
       "      'minLength': 3,\n",
       "      'maxLength': 3,\n",
       "      'description': \"The 3-letter IATA code for the origin airport. Example: 'IST' for Istanbul Airport.\"},\n",
       "     'originCountryCode': {'type': 'string',\n",
       "      'minLength': 2,\n",
       "      'maxLength': 2,\n",
       "      'description': \"The 2-letter ISO country code for the origin airport's country. Example: 'TR' for Turkey.\"},\n",
       "     'originMultiport': {'type': 'boolean',\n",
       "      'default': True,\n",
       "      'description': 'Optional. Set to true if the origin is a city with multiple airports and any airport in that city can be used. Defaults to false. Example: true'},\n",
       "     'destinationAirportCode': {'type': 'string',\n",
       "      'minLength': 3,\n",
       "      'maxLength': 3,\n",
       "      'description': \"The 3-letter IATA code for the destination airport. Example: 'LHR' for London Heathrow.\"},\n",
       "     'destinationCountryCode': {'type': 'string',\n",
       "      'minLength': 2,\n",
       "      'maxLength': 2,\n",
       "      'description': \"The 2-letter ISO country code for the destination airport's country. Example: 'GB' for United Kingdom.\"},\n",
       "     'destinationMultiport': {'type': 'boolean',\n",
       "      'default': True,\n",
       "      'description': 'Optional. Set to true if the destination is a city with multiple airports and any airport in that city can be used. Defaults to false. Example: true'}},\n",
       "    'required': ['departureDateTime',\n",
       "     'originAirportCode',\n",
       "     'originCountryCode',\n",
       "     'destinationAirportCode',\n",
       "     'destinationCountryCode'],\n",
       "    'additionalProperties': False},\n",
       "   'minItems': 1,\n",
       "   'description': \"An array defining the flight segments. For a one-way trip, this will have one item. For a round trip, it will has two items (outbound and return). For multi-city, it can have more.- For a 'round' trip, this MUST be an array with exactly TWO items (outbound and return).\"},\n",
       "  'passengers': {'type': 'array',\n",
       "   'items': {'type': 'object',\n",
       "    'properties': {'passengerType': {'type': 'string',\n",
       "      'enum': ['ADT', 'CHD', 'INF', 'YAD', 'SRC', 'STD', 'CNS', 'STU'],\n",
       "      'description': \"Passenger type code. Common types: 'ADT' (Adult), 'CHD' (Child), 'INF' (Infant). Ensure to use a valid type from the allowed list.\"},\n",
       "     'quantity': {'type': 'integer',\n",
       "      'exclusiveMinimum': 0,\n",
       "      'description': 'Number of passengers of this specific type. Must be a positive integer. Example: 1'}},\n",
       "    'required': ['passengerType', 'quantity'],\n",
       "    'additionalProperties': False,\n",
       "    'description': 'Specifies the type and quantity of passengers.'},\n",
       "   'minItems': 1,\n",
       "   'description': 'An array specifying the number of passengers for each type (e.g., adults, children, infants).'},\n",
       "  'tripType': {'type': 'string',\n",
       "   'enum': ['one_way', 'round', 'multi'],\n",
       "   'description': \"Specifies the trip type. This choice STRICTLY determines the number of flight segments required in the 'originDestinations' array.\\n      - 'one_way': REQUIRES exactly ONE flight segment.\\n      - 'round': REQUIRES exactly TWO flight segments (outbound and return).\\n      - 'multi': REQUIRES two or more flight segments. 'round' indicates you are starting a flow for `search_inbound_flights` tool\"},\n",
       "  'fareFamily': {'type': 'string'}},\n",
       " 'required': ['originDestinations', 'passengers', 'tripType'],\n",
       " 'additionalProperties': False,\n",
       " '$schema': 'http://json-schema.org/draft-07/schema#'}"
      ]
     },
     "execution_count": 32,
     "metadata": {},
     "output_type": "execute_result"
    }
   ],
   "source": [
    "tools[3].inputSchema"
   ]
  },
  {
   "cell_type": "code",
   "execution_count": null,
   "id": "bc88df50",
   "metadata": {},
   "outputs": [],
   "source": [
    "input_schema = tools[3].inputSchema"
   ]
  },
  {
   "cell_type": "code",
   "execution_count": null,
   "id": "b81fbd5b",
   "metadata": {},
   "outputs": [],
   "source": []
  },
  {
   "cell_type": "code",
   "execution_count": null,
   "id": "ab085cb0",
   "metadata": {},
   "outputs": [],
   "source": [
    "# her fonksiyonun inputSchema'sı var, bu inputSchema'da properties var\n",
    "# bu propoerties fonksiyonun istediği parametereler\n",
    "# her parametrenin enum kısmı kabul ettiği classları belirtiyor.\n",
    "# her property bir description içeriyor."
   ]
  },
  {
   "cell_type": "code",
   "execution_count": 43,
   "id": "fd40c53b",
   "metadata": {},
   "outputs": [],
   "source": [
    "args_desc = []\n",
    "if \"properties\" in input_schema:\n",
    "    for param_name, param_info in input_schema[\"properties\"].items():\n",
    "        arg_desc = (\n",
    "            f\"- {param_name}: {param_info.get('description', 'No description')}\"\n",
    "        )\n",
    "\n",
    "        args_desc.append(arg_desc)\n"
   ]
  },
  {
   "cell_type": "code",
   "execution_count": 44,
   "id": "54d5d229",
   "metadata": {},
   "outputs": [
    {
     "data": {
      "text/plain": [
       "[\"- originDestinations: An array defining the flight segments. For a one-way trip, this will have one item. For a round trip, it will has two items (outbound and return). For multi-city, it can have more.- For a 'round' trip, this MUST be an array with exactly TWO items (outbound and return).\",\n",
       " '- passengers: An array specifying the number of passengers for each type (e.g., adults, children, infants).',\n",
       " \"- tripType: Specifies the trip type. This choice STRICTLY determines the number of flight segments required in the 'originDestinations' array.\\n      - 'one_way': REQUIRES exactly ONE flight segment.\\n      - 'round': REQUIRES exactly TWO flight segments (outbound and return).\\n      - 'multi': REQUIRES two or more flight segments. 'round' indicates you are starting a flow for `search_inbound_flights` tool\",\n",
       " '- fareFamily: No description']"
      ]
     },
     "execution_count": 44,
     "metadata": {},
     "output_type": "execute_result"
    }
   ],
   "source": [
    "args_desc"
   ]
  },
  {
   "cell_type": "code",
   "execution_count": null,
   "id": "64dff91b",
   "metadata": {},
   "outputs": [],
   "source": []
  }
 ],
 "metadata": {
  "kernelspec": {
   "display_name": "Python 3",
   "language": "python",
   "name": "python3"
  },
  "language_info": {
   "codemirror_mode": {
    "name": "ipython",
    "version": 3
   },
   "file_extension": ".py",
   "mimetype": "text/x-python",
   "name": "python",
   "nbconvert_exporter": "python",
   "pygments_lexer": "ipython3",
   "version": "3.13.5"
  }
 },
 "nbformat": 4,
 "nbformat_minor": 5
}
