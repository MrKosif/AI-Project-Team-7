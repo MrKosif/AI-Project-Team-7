{
 "cells": [
  {
   "cell_type": "code",
   "execution_count": 1,
   "id": "b7f33896",
   "metadata": {},
   "outputs": [],
   "source": [
    "from src.workflow import WorkflowEngine"
   ]
  },
  {
   "cell_type": "code",
   "execution_count": 2,
   "id": "b5134fa6",
   "metadata": {},
   "outputs": [],
   "source": [
    "runnable = WorkflowEngine()"
   ]
  },
  {
   "cell_type": "code",
   "execution_count": null,
   "id": "d6354ea8",
   "metadata": {},
   "outputs": [],
   "source": [
    "self.runnable.invoke({\"question\": question})"
   ]
  }
 ],
 "metadata": {
  "kernelspec": {
   "display_name": "Python 3",
   "language": "python",
   "name": "python3"
  },
  "language_info": {
   "codemirror_mode": {
    "name": "ipython",
    "version": 3
   },
   "file_extension": ".py",
   "mimetype": "text/x-python",
   "name": "python",
   "nbconvert_exporter": "python",
   "pygments_lexer": "ipython3",
   "version": "3.13.5"
  }
 },
 "nbformat": 4,
 "nbformat_minor": 5
}
